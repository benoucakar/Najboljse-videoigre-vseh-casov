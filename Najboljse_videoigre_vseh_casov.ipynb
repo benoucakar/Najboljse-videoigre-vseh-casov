{
 "cells": [
  {
   "cell_type": "markdown",
   "metadata": {},
   "source": [
    "# Najboljše videoigre vseh časov\n",
    "\n",
    " **Projektna naloga pri predmetu Programiranje 1**"
   ]
  },
  {
   "cell_type": "markdown",
   "metadata": {},
   "source": [
    "# 0. Priprava podatkov"
   ]
  },
  {
   "cell_type": "markdown",
   "metadata": {},
   "source": [
    "Preden sploh lahko začnemo z analizo podatkov, moramo seveda pripravit vse potrebno. V ta namen uvozimo knjižnico pandas in vnesemo naše tabele."
   ]
  },
  {
   "cell_type": "code",
   "execution_count": 1,
   "metadata": {},
   "outputs": [],
   "source": [
    "import pandas as pd\n",
    "\n",
    "pd.options.display.max_rows = 100\n",
    "\n",
    "%matplotlib inline\n",
    "\n",
    "igre = pd.read_csv(\"igre.csv\")\n",
    "zanri = pd.read_csv(\"zanri.csv\")"
   ]
  },
  {
   "cell_type": "code",
   "execution_count": 2,
   "metadata": {},
   "outputs": [
    {
     "data": {
      "text/html": [
       "<div>\n",
       "<style scoped>\n",
       "    .dataframe tbody tr th:only-of-type {\n",
       "        vertical-align: middle;\n",
       "    }\n",
       "\n",
       "    .dataframe tbody tr th {\n",
       "        vertical-align: top;\n",
       "    }\n",
       "\n",
       "    .dataframe thead th {\n",
       "        text-align: right;\n",
       "    }\n",
       "</style>\n",
       "<table border=\"1\" class=\"dataframe\">\n",
       "  <thead>\n",
       "    <tr style=\"text-align: right;\">\n",
       "      <th></th>\n",
       "      <th>id</th>\n",
       "      <th>naslov</th>\n",
       "      <th>platforma</th>\n",
       "      <th>studio</th>\n",
       "      <th>mesec</th>\n",
       "      <th>leto</th>\n",
       "      <th>metascore</th>\n",
       "      <th>glasovi metascore</th>\n",
       "      <th>userscore</th>\n",
       "      <th>glasovi userscore</th>\n",
       "      <th>oznaka</th>\n",
       "      <th>stevilo igralcev</th>\n",
       "      <th>opis</th>\n",
       "    </tr>\n",
       "  </thead>\n",
       "  <tbody>\n",
       "    <tr>\n",
       "      <th>0</th>\n",
       "      <td>160692</td>\n",
       "      <td>The Legend of Zelda: Ocarina of Time</td>\n",
       "      <td>Nintendo 64</td>\n",
       "      <td>Nintendo</td>\n",
       "      <td>Nov</td>\n",
       "      <td>1998</td>\n",
       "      <td>99.0</td>\n",
       "      <td>22.0</td>\n",
       "      <td>9.1</td>\n",
       "      <td>5723.0</td>\n",
       "      <td>E</td>\n",
       "      <td>1.0</td>\n",
       "      <td>As a young boy, Link is tricked by Ganondorf, ...</td>\n",
       "    </tr>\n",
       "    <tr>\n",
       "      <th>1</th>\n",
       "      <td>160779</td>\n",
       "      <td>Tony Hawk's Pro Skater 2</td>\n",
       "      <td>PlayStation</td>\n",
       "      <td>Activision</td>\n",
       "      <td>Sep</td>\n",
       "      <td>2000</td>\n",
       "      <td>98.0</td>\n",
       "      <td>19.0</td>\n",
       "      <td>7.4</td>\n",
       "      <td>639.0</td>\n",
       "      <td>T</td>\n",
       "      <td>2.0</td>\n",
       "      <td>As most major publishers' development efforts ...</td>\n",
       "    </tr>\n",
       "    <tr>\n",
       "      <th>2</th>\n",
       "      <td>108362</td>\n",
       "      <td>Grand Theft Auto IV</td>\n",
       "      <td>PlayStation 3</td>\n",
       "      <td>Rockstar Games</td>\n",
       "      <td>Apr</td>\n",
       "      <td>2008</td>\n",
       "      <td>98.0</td>\n",
       "      <td>64.0</td>\n",
       "      <td>7.6</td>\n",
       "      <td>3797.0</td>\n",
       "      <td>M</td>\n",
       "      <td>1.0</td>\n",
       "      <td>What does the American Dream mean today? For N...</td>\n",
       "    </tr>\n",
       "    <tr>\n",
       "      <th>3</th>\n",
       "      <td>160751</td>\n",
       "      <td>SoulCalibur</td>\n",
       "      <td>Dreamcast</td>\n",
       "      <td>Namco</td>\n",
       "      <td>Sep</td>\n",
       "      <td>1999</td>\n",
       "      <td>98.0</td>\n",
       "      <td>24.0</td>\n",
       "      <td>8.5</td>\n",
       "      <td>321.0</td>\n",
       "      <td>T</td>\n",
       "      <td>2.0</td>\n",
       "      <td>This is a tale of souls and swords, transcendi...</td>\n",
       "    </tr>\n",
       "    <tr>\n",
       "      <th>4</th>\n",
       "      <td>108363</td>\n",
       "      <td>Grand Theft Auto IV</td>\n",
       "      <td>Xbox 360</td>\n",
       "      <td>Rockstar Games</td>\n",
       "      <td>Apr</td>\n",
       "      <td>2008</td>\n",
       "      <td>98.0</td>\n",
       "      <td>86.0</td>\n",
       "      <td>7.9</td>\n",
       "      <td>3360.0</td>\n",
       "      <td>M</td>\n",
       "      <td>1.0</td>\n",
       "      <td>What does the American Dream mean today? For N...</td>\n",
       "    </tr>\n",
       "    <tr>\n",
       "      <th>...</th>\n",
       "      <td>...</td>\n",
       "      <td>...</td>\n",
       "      <td>...</td>\n",
       "      <td>...</td>\n",
       "      <td>...</td>\n",
       "      <td>...</td>\n",
       "      <td>...</td>\n",
       "      <td>...</td>\n",
       "      <td>...</td>\n",
       "      <td>...</td>\n",
       "      <td>...</td>\n",
       "      <td>...</td>\n",
       "      <td>...</td>\n",
       "    </tr>\n",
       "    <tr>\n",
       "      <th>9995</th>\n",
       "      <td>215521</td>\n",
       "      <td>Atelier Ayesha: The Alchemist of Dusk</td>\n",
       "      <td>PlayStation 3</td>\n",
       "      <td>Koei Tecmo Games</td>\n",
       "      <td>Mar</td>\n",
       "      <td>2013</td>\n",
       "      <td>70.0</td>\n",
       "      <td>17.0</td>\n",
       "      <td>7.7</td>\n",
       "      <td>88.0</td>\n",
       "      <td>T</td>\n",
       "      <td>1.0</td>\n",
       "      <td>Atelier Ayesha: The Alchemist of Dusk follows ...</td>\n",
       "    </tr>\n",
       "    <tr>\n",
       "      <th>9996</th>\n",
       "      <td>182135</td>\n",
       "      <td>Payday: The Heist</td>\n",
       "      <td>PlayStation 3</td>\n",
       "      <td>Sony Online Entertainment</td>\n",
       "      <td>Oct</td>\n",
       "      <td>2011</td>\n",
       "      <td>70.0</td>\n",
       "      <td>30.0</td>\n",
       "      <td>6.4</td>\n",
       "      <td>83.0</td>\n",
       "      <td>M</td>\n",
       "      <td>NaN</td>\n",
       "      <td>Players will embark on a spectacular crime spr...</td>\n",
       "    </tr>\n",
       "    <tr>\n",
       "      <th>9997</th>\n",
       "      <td>182132</td>\n",
       "      <td>The Sims 3: Pets</td>\n",
       "      <td>PlayStation 3</td>\n",
       "      <td>Electronic Arts</td>\n",
       "      <td>Oct</td>\n",
       "      <td>2011</td>\n",
       "      <td>70.0</td>\n",
       "      <td>16.0</td>\n",
       "      <td>3.9</td>\n",
       "      <td>15.0</td>\n",
       "      <td>T</td>\n",
       "      <td>1.0</td>\n",
       "      <td>Players take creativity by the reins and play ...</td>\n",
       "    </tr>\n",
       "    <tr>\n",
       "      <th>9998</th>\n",
       "      <td>110061</td>\n",
       "      <td>Global Agenda</td>\n",
       "      <td>PC</td>\n",
       "      <td>Hi-Rez Studios</td>\n",
       "      <td>Feb</td>\n",
       "      <td>2010</td>\n",
       "      <td>70.0</td>\n",
       "      <td>16.0</td>\n",
       "      <td>7.8</td>\n",
       "      <td>356.0</td>\n",
       "      <td>T</td>\n",
       "      <td>NaN</td>\n",
       "      <td>Global Agenda is a massively multi-player acti...</td>\n",
       "    </tr>\n",
       "    <tr>\n",
       "      <th>9999</th>\n",
       "      <td>502606</td>\n",
       "      <td>Sundered</td>\n",
       "      <td>PlayStation 4</td>\n",
       "      <td>Thunder Lotus Games</td>\n",
       "      <td>Jul</td>\n",
       "      <td>2017</td>\n",
       "      <td>70.0</td>\n",
       "      <td>22.0</td>\n",
       "      <td>6.8</td>\n",
       "      <td>26.0</td>\n",
       "      <td>E10+</td>\n",
       "      <td>1.0</td>\n",
       "      <td>Sundered is a horrifying fight for survival an...</td>\n",
       "    </tr>\n",
       "  </tbody>\n",
       "</table>\n",
       "<p>10000 rows × 13 columns</p>\n",
       "</div>"
      ],
      "text/plain": [
       "          id                                 naslov      platforma  \\\n",
       "0     160692   The Legend of Zelda: Ocarina of Time    Nintendo 64   \n",
       "1     160779               Tony Hawk's Pro Skater 2    PlayStation   \n",
       "2     108362                    Grand Theft Auto IV  PlayStation 3   \n",
       "3     160751                            SoulCalibur      Dreamcast   \n",
       "4     108363                    Grand Theft Auto IV       Xbox 360   \n",
       "...      ...                                    ...            ...   \n",
       "9995  215521  Atelier Ayesha: The Alchemist of Dusk  PlayStation 3   \n",
       "9996  182135                      Payday: The Heist  PlayStation 3   \n",
       "9997  182132                       The Sims 3: Pets  PlayStation 3   \n",
       "9998  110061                          Global Agenda             PC   \n",
       "9999  502606                               Sundered  PlayStation 4   \n",
       "\n",
       "                         studio mesec  leto  metascore  glasovi metascore  \\\n",
       "0                      Nintendo   Nov  1998       99.0               22.0   \n",
       "1                    Activision   Sep  2000       98.0               19.0   \n",
       "2                Rockstar Games   Apr  2008       98.0               64.0   \n",
       "3                         Namco   Sep  1999       98.0               24.0   \n",
       "4                Rockstar Games   Apr  2008       98.0               86.0   \n",
       "...                         ...   ...   ...        ...                ...   \n",
       "9995           Koei Tecmo Games   Mar  2013       70.0               17.0   \n",
       "9996  Sony Online Entertainment   Oct  2011       70.0               30.0   \n",
       "9997            Electronic Arts   Oct  2011       70.0               16.0   \n",
       "9998             Hi-Rez Studios   Feb  2010       70.0               16.0   \n",
       "9999        Thunder Lotus Games   Jul  2017       70.0               22.0   \n",
       "\n",
       "      userscore  glasovi userscore oznaka  stevilo igralcev  \\\n",
       "0           9.1             5723.0      E               1.0   \n",
       "1           7.4              639.0      T               2.0   \n",
       "2           7.6             3797.0      M               1.0   \n",
       "3           8.5              321.0      T               2.0   \n",
       "4           7.9             3360.0      M               1.0   \n",
       "...         ...                ...    ...               ...   \n",
       "9995        7.7               88.0      T               1.0   \n",
       "9996        6.4               83.0      M               NaN   \n",
       "9997        3.9               15.0      T               1.0   \n",
       "9998        7.8              356.0      T               NaN   \n",
       "9999        6.8               26.0   E10+               1.0   \n",
       "\n",
       "                                                   opis  \n",
       "0     As a young boy, Link is tricked by Ganondorf, ...  \n",
       "1     As most major publishers' development efforts ...  \n",
       "2     What does the American Dream mean today? For N...  \n",
       "3     This is a tale of souls and swords, transcendi...  \n",
       "4     What does the American Dream mean today? For N...  \n",
       "...                                                 ...  \n",
       "9995  Atelier Ayesha: The Alchemist of Dusk follows ...  \n",
       "9996  Players will embark on a spectacular crime spr...  \n",
       "9997  Players take creativity by the reins and play ...  \n",
       "9998  Global Agenda is a massively multi-player acti...  \n",
       "9999  Sundered is a horrifying fight for survival an...  \n",
       "\n",
       "[10000 rows x 13 columns]"
      ]
     },
     "execution_count": 2,
     "metadata": {},
     "output_type": "execute_result"
    }
   ],
   "source": [
    "igre"
   ]
  },
  {
   "cell_type": "code",
   "execution_count": 3,
   "metadata": {},
   "outputs": [
    {
     "data": {
      "text/html": [
       "<div>\n",
       "<style scoped>\n",
       "    .dataframe tbody tr th:only-of-type {\n",
       "        vertical-align: middle;\n",
       "    }\n",
       "\n",
       "    .dataframe tbody tr th {\n",
       "        vertical-align: top;\n",
       "    }\n",
       "\n",
       "    .dataframe thead th {\n",
       "        text-align: right;\n",
       "    }\n",
       "</style>\n",
       "<table border=\"1\" class=\"dataframe\">\n",
       "  <thead>\n",
       "    <tr style=\"text-align: right;\">\n",
       "      <th></th>\n",
       "      <th>id</th>\n",
       "      <th>zanr</th>\n",
       "    </tr>\n",
       "  </thead>\n",
       "  <tbody>\n",
       "    <tr>\n",
       "      <th>0</th>\n",
       "      <td>160692</td>\n",
       "      <td>Action Adventure</td>\n",
       "    </tr>\n",
       "    <tr>\n",
       "      <th>1</th>\n",
       "      <td>160692</td>\n",
       "      <td>Fantasy</td>\n",
       "    </tr>\n",
       "    <tr>\n",
       "      <th>2</th>\n",
       "      <td>160779</td>\n",
       "      <td>Sports</td>\n",
       "    </tr>\n",
       "    <tr>\n",
       "      <th>3</th>\n",
       "      <td>160779</td>\n",
       "      <td>Alternative</td>\n",
       "    </tr>\n",
       "    <tr>\n",
       "      <th>4</th>\n",
       "      <td>160779</td>\n",
       "      <td>Skateboarding</td>\n",
       "    </tr>\n",
       "    <tr>\n",
       "      <th>...</th>\n",
       "      <td>...</td>\n",
       "      <td>...</td>\n",
       "    </tr>\n",
       "    <tr>\n",
       "      <th>34181</th>\n",
       "      <td>110061</td>\n",
       "      <td>Massively Multiplayer Online</td>\n",
       "    </tr>\n",
       "    <tr>\n",
       "      <th>34182</th>\n",
       "      <td>110061</td>\n",
       "      <td>Massively Multiplayer</td>\n",
       "    </tr>\n",
       "    <tr>\n",
       "      <th>34183</th>\n",
       "      <td>110061</td>\n",
       "      <td>Sci-Fi</td>\n",
       "    </tr>\n",
       "    <tr>\n",
       "      <th>34184</th>\n",
       "      <td>502606</td>\n",
       "      <td>Action Adventure</td>\n",
       "    </tr>\n",
       "    <tr>\n",
       "      <th>34185</th>\n",
       "      <td>502606</td>\n",
       "      <td>General</td>\n",
       "    </tr>\n",
       "  </tbody>\n",
       "</table>\n",
       "<p>34186 rows × 2 columns</p>\n",
       "</div>"
      ],
      "text/plain": [
       "           id                          zanr\n",
       "0      160692              Action Adventure\n",
       "1      160692                       Fantasy\n",
       "2      160779                        Sports\n",
       "3      160779                   Alternative\n",
       "4      160779                 Skateboarding\n",
       "...       ...                           ...\n",
       "34181  110061  Massively Multiplayer Online\n",
       "34182  110061         Massively Multiplayer\n",
       "34183  110061                        Sci-Fi\n",
       "34184  502606              Action Adventure\n",
       "34185  502606                       General\n",
       "\n",
       "[34186 rows x 2 columns]"
      ]
     },
     "execution_count": 3,
     "metadata": {},
     "output_type": "execute_result"
    }
   ],
   "source": [
    "zanri"
   ]
  },
  {
   "cell_type": "markdown",
   "metadata": {},
   "source": [
    "# 1. Kaj pomeni \"najboljša videoigra\"?"
   ]
  },
  {
   "cell_type": "markdown",
   "metadata": {},
   "source": [
    "Da bo naslov te projektne naloge opravičen, bi se spodobilo, da najprej dorečemo, kaj sploh pomeni, da je igra \"najboljša\". Igre so na spletni strani Metacritic, s katere sem prenesel podatke, razvrščene po oceni **metascore**. Tu jih bomo ocenjevali malo drugače."
   ]
  },
  {
   "cell_type": "markdown",
   "metadata": {},
   "source": [
    "Konstruirali bomo lastno metriko za rangiranje. Zakaj je to potrebno, se morda sprešuje bralec. Razlogov je več:\n",
    "* Neobelani podatki so razvrščeni po **metascore** torej ocenah Strokovnjakov. Ne upoštevamo torej mnenja povprečnega igralca.\n",
    "* Nikjer ne upoštevamo stevilo ocen, kar lahko pripelje do patoloških primerov. Igra ki ima 5 glasov in oceno 9.0 intuitivno seveda ni enako dobra, kot igra, ki ima 5000 glasov in oceno 8.5.\n",
    "* Vendar pa bi radi upoštevali, da bo, do neke mere, igra z malo glasovi in dobro oceno boljša od igre z veliko glasovi, ki pravijo, da je zanič."
   ]
  },
  {
   "cell_type": "markdown",
   "metadata": {},
   "source": [
    "Dajmo najprej malo preučiti podatke, da vidimo s čim sploh imamo opravka:"
   ]
  },
  {
   "cell_type": "markdown",
   "metadata": {},
   "source": [
    "###  Userscore"
   ]
  },
  {
   "cell_type": "code",
   "execution_count": 63,
   "metadata": {},
   "outputs": [
    {
     "data": {
      "text/plain": [
       "<AxesSubplot:xlabel='glasovi userscore', ylabel='userscore'>"
      ]
     },
     "execution_count": 63,
     "metadata": {},
     "output_type": "execute_result"
    },
    {
     "data": {
      "image/png": "[encoded data removed]",
      "text/plain": [
       "<Figure size 432x288 with 1 Axes>"
      ]
     },
     "metadata": {
      "needs_background": "light"
     },
     "output_type": "display_data"
    }
   ],
   "source": [
    "igre.plot.scatter(x=\"glasovi userscore\", y=\"userscore\")"
   ]
  },
  {
   "cell_type": "code",
   "execution_count": 70,
   "metadata": {},
   "outputs": [
    {
     "data": {
      "text/html": [
       "<div>\n",
       "<style scoped>\n",
       "    .dataframe tbody tr th:only-of-type {\n",
       "        vertical-align: middle;\n",
       "    }\n",
       "\n",
       "    .dataframe tbody tr th {\n",
       "        vertical-align: top;\n",
       "    }\n",
       "\n",
       "    .dataframe thead th {\n",
       "        text-align: right;\n",
       "    }\n",
       "</style>\n",
       "<table border=\"1\" class=\"dataframe\">\n",
       "  <thead>\n",
       "    <tr style=\"text-align: right;\">\n",
       "      <th></th>\n",
       "      <th>id</th>\n",
       "      <th>naslov</th>\n",
       "      <th>platforma</th>\n",
       "      <th>studio</th>\n",
       "      <th>mesec</th>\n",
       "      <th>leto</th>\n",
       "      <th>metascore</th>\n",
       "      <th>glasovi metascore</th>\n",
       "      <th>userscore</th>\n",
       "      <th>glasovi userscore</th>\n",
       "      <th>oznaka</th>\n",
       "      <th>stevilo igralcev</th>\n",
       "      <th>opis</th>\n",
       "      <th>prilagojen userscore</th>\n",
       "      <th>prilagojen metascore</th>\n",
       "      <th>prilagojena ocena</th>\n",
       "    </tr>\n",
       "  </thead>\n",
       "  <tbody>\n",
       "    <tr>\n",
       "      <th>115</th>\n",
       "      <td>504733</td>\n",
       "      <td>The Last of Us Part II</td>\n",
       "      <td>PlayStation 4</td>\n",
       "      <td>SCEA</td>\n",
       "      <td>Jun</td>\n",
       "      <td>2020</td>\n",
       "      <td>93.0</td>\n",
       "      <td>121.0</td>\n",
       "      <td>5.7</td>\n",
       "      <td>145922.0</td>\n",
       "      <td>M</td>\n",
       "      <td>1.0</td>\n",
       "      <td>Five years after their dangerous journey acros...</td>\n",
       "      <td>5.7</td>\n",
       "      <td>9.3</td>\n",
       "      <td>15.0</td>\n",
       "    </tr>\n",
       "  </tbody>\n",
       "</table>\n",
       "</div>"
      ],
      "text/plain": [
       "         id                  naslov      platforma studio mesec  leto  \\\n",
       "115  504733  The Last of Us Part II  PlayStation 4   SCEA   Jun  2020   \n",
       "\n",
       "     metascore  glasovi metascore  userscore  glasovi userscore oznaka  \\\n",
       "115       93.0              121.0        5.7           145922.0      M   \n",
       "\n",
       "     stevilo igralcev                                               opis  \\\n",
       "115               1.0  Five years after their dangerous journey acros...   \n",
       "\n",
       "     prilagojen userscore  prilagojen metascore  prilagojena ocena  \n",
       "115                   5.7                   9.3               15.0  "
      ]
     },
     "execution_count": 70,
     "metadata": {},
     "output_type": "execute_result"
    }
   ],
   "source": [
    "igre[igre[\"glasovi userscore\"] > 10 ** 5]"
   ]
  },
  {
   "cell_type": "markdown",
   "metadata": {},
   "source": [
    "Vredu, zanimiv začetek...\n",
    "\n",
    "Za bralca, ki ni na tekočem s svetom videoiger, *The Last of Us* je bila ena najbolj uspešnih videoiger za *PlayStation 3* ter *PlayStation 4* in ena najbolj uspešnih videoiger na sploh. Je kakoničen primer, ko zagovarjaš, da igre niso samo streljačine, ampak cel umentniški medij, ki se lahko ob rob postavlja knjigi in filmu. Ko bomo iskali najboljše igre na teh platformah jo bomo gotovo našli.\n",
    "\n",
    "Skratka, igra je izšla 2013 in uboževalci so čakali 7 let na njeno nadaljevanje, *The Last of Us Part II*, ki pa je bila dokaj kontroverzna. Oddalila se je od sporočila prve igre in se usmerila v LGBT pride vsebine. To, skupaj z napihnjenimi pričakovanji občinstva je pomenilo, da je imelo veliko ljudi kaj za povedat in to se ravno tu pozna.\n",
    "\n",
    "Morda se sedaj osredotočimo tja, kjer je glavnina podatkov."
   ]
  },
  {
   "cell_type": "code",
   "execution_count": 66,
   "metadata": {},
   "outputs": [
    {
     "data": {
      "text/plain": [
       "<AxesSubplot:xlabel='glasovi userscore', ylabel='userscore'>"
      ]
     },
     "execution_count": 66,
     "metadata": {},
     "output_type": "execute_result"
    },
    {
     "data": {
      "image/png": "[encoded data removed]",
      "text/plain": [
       "<Figure size 432x288 with 1 Axes>"
      ]
     },
     "metadata": {
      "needs_background": "light"
     },
     "output_type": "display_data"
    }
   ],
   "source": [
    "igre[igre[\"glasovi userscore\"] < 1000].plot.scatter(x=\"glasovi userscore\", y=\"userscore\")"
   ]
  },
  {
   "cell_type": "markdown",
   "metadata": {},
   "source": [
    "Vidimo, da več kot je glasov, boljše igre imamo. Torej je smiselno število glasov upoštevati pri naši oceni. Radi bi upoštevali zgornje točke, tako da naredimo sledeče:\n",
    "\n",
    "**prilagojen userscore** izračunamo po naslednji formuli: `Up = U * (Gu / (Gu + GuAv))`  \n",
    "kjer je `U` prvotna ocena, `Gu` število glasov in `GuAv` povprečno število glasov.\n",
    "\n",
    "S tem smo dosegli sledeče:\n",
    "* Igre z visoko oceno in velikim številom glasov, bodo obdržale prestižno oceno.\n",
    "* Igre z nizko oceno in velikim številom glasov, bodo ostale slabo ocenjene.\n",
    "* Igre z sicer malo glasovi, ampak res dobro oceno, bodo povprečno ali celo nadpovprečno ocenjene.\n",
    "* Za igre z nizko oceno in malo glasovi smatramo, da niso dovolj popularne, zato se njihova ocena zmanjša.\n",
    "\n",
    "Če je glasov veliko, ocena ostane skoraj enaka. Če pa je glasov malo, se ocena temu primerno prilagodi, pri čimer pa lahko kaka res dobra igra vseeno izstopa.\n",
    "Tako smo graf ocene v odvisnosti od glasov nekoliko linealizirali."
   ]
  },
  {
   "cell_type": "code",
   "execution_count": 91,
   "metadata": {},
   "outputs": [],
   "source": [
    "def prilagodi_glasove_userscore(tabela_iger):\n",
    "    def prilagodi(ocena, st_glasov, medijana_glasov):\n",
    "        return round(((st_glasov) / (st_glasov + medijana_glasov)) * ocena, 2)\n",
    "    \n",
    "    tabela_iger[\"prilagojen userscore\"] = prilagodi(\n",
    "        tabela_iger[\"userscore\"], tabela_iger[\"glasovi userscore\"], (tabela_iger[\"glasovi userscore\"]).mean()\n",
    "    )\n",
    "prilagodi_glasove_userscore(igre)"
   ]
  },
  {
   "cell_type": "code",
   "execution_count": 92,
   "metadata": {},
   "outputs": [
    {
     "data": {
      "text/plain": [
       "<AxesSubplot:xlabel='glasovi userscore', ylabel='prilagojen userscore'>"
      ]
     },
     "execution_count": 92,
     "metadata": {},
     "output_type": "execute_result"
    },
    {
     "data": {
      "image/png": "[encoded data removed]",
      "text/plain": [
       "<Figure size 432x288 with 1 Axes>"
      ]
     },
     "metadata": {
      "needs_background": "light"
     },
     "output_type": "display_data"
    }
   ],
   "source": [
    "igre[igre[\"glasovi userscore\"] < 1000].plot.scatter(x=\"glasovi userscore\", y=\"prilagojen userscore\")"
   ]
  },
  {
   "cell_type": "markdown",
   "metadata": {},
   "source": [
    "### Metascore"
   ]
  },
  {
   "cell_type": "code",
   "execution_count": 60,
   "metadata": {},
   "outputs": [
    {
     "data": {
      "text/plain": [
       "<AxesSubplot:xlabel='glasovi metascore', ylabel='metascore'>"
      ]
     },
     "execution_count": 60,
     "metadata": {},
     "output_type": "execute_result"
    },
    {
     "data": {
      "image/png": "[encoded data removed]",
      "text/plain": [
       "<Figure size 432x288 with 1 Axes>"
      ]
     },
     "metadata": {
      "needs_background": "light"
     },
     "output_type": "display_data"
    }
   ],
   "source": [
    "igre.plot.scatter(x=\"glasovi metascore\", y=\"metascore\")"
   ]
  },
  {
   "cell_type": "markdown",
   "metadata": {},
   "source": [
    "Tu opazimo da kvaliteta iger s številom glasov ne narašča. To je za pričakovati, saj proivajalci pogosto podarijo igro ocenjevalce, da naredijo oceno. \n",
    "\n",
    "Število glasov je torej v veliki meri odvisno od podjetji in ga zato tu ne bomo upoštevali. Pravtako igre oceni veliko manj ljudi in so zato števila glasov bolj blizu skupaj.\n",
    "\n",
    "Oceno strokovnjakov bomo le delili z 10, da bosta userscore in metascore števili istega reda velikosti."
   ]
  },
  {
   "cell_type": "code",
   "execution_count": 93,
   "metadata": {},
   "outputs": [],
   "source": [
    "def prilagodi_glasove_metascore(tabela_iger):\n",
    "    tabela_iger[\"prilagojen metascore\"] = tabela_iger[\"metascore\"] / 10\n",
    "\n",
    "prilagodi_glasove_metascore(igre)"
   ]
  },
  {
   "cell_type": "markdown",
   "metadata": {},
   "source": [
    "### Prilagojena ocena"
   ]
  },
  {
   "cell_type": "markdown",
   "metadata": {},
   "source": [
    "Naša prilagojena ocena bo vlota prilagojenega metascora in userscora.\n",
    "\n",
    "In ko smo ravno pri tem, bomo še odstranili igre, ki niso ocenjene."
   ]
  },
  {
   "cell_type": "code",
   "execution_count": 94,
   "metadata": {},
   "outputs": [],
   "source": [
    "def prilagojena_ocena(tabela_iger):\n",
    "    tabela_iger[\"prilagojena ocena\"] = tabela_iger[\"prilagojen userscore\"] + tabela_iger[\"prilagojen metascore\"]\n",
    "    tabela_iger.dropna(subset=[\"prilagojena ocena\"], inplace=True)\n",
    "\n",
    "prilagojena_ocena(igre)"
   ]
  },
  {
   "cell_type": "code",
   "execution_count": 97,
   "metadata": {},
   "outputs": [
    {
     "data": {
      "text/html": [
       "<div>\n",
       "<style scoped>\n",
       "    .dataframe tbody tr th:only-of-type {\n",
       "        vertical-align: middle;\n",
       "    }\n",
       "\n",
       "    .dataframe tbody tr th {\n",
       "        vertical-align: top;\n",
       "    }\n",
       "\n",
       "    .dataframe thead th {\n",
       "        text-align: right;\n",
       "    }\n",
       "</style>\n",
       "<table border=\"1\" class=\"dataframe\">\n",
       "  <thead>\n",
       "    <tr style=\"text-align: right;\">\n",
       "      <th></th>\n",
       "      <th>id</th>\n",
       "      <th>naslov</th>\n",
       "      <th>platforma</th>\n",
       "      <th>studio</th>\n",
       "      <th>mesec</th>\n",
       "      <th>leto</th>\n",
       "      <th>metascore</th>\n",
       "      <th>glasovi metascore</th>\n",
       "      <th>userscore</th>\n",
       "      <th>glasovi userscore</th>\n",
       "      <th>oznaka</th>\n",
       "      <th>stevilo igralcev</th>\n",
       "      <th>opis</th>\n",
       "      <th>prilagojen userscore</th>\n",
       "      <th>prilagojen metascore</th>\n",
       "      <th>prilagojena ocena</th>\n",
       "    </tr>\n",
       "  </thead>\n",
       "  <tbody>\n",
       "    <tr>\n",
       "      <th>0</th>\n",
       "      <td>160692</td>\n",
       "      <td>The Legend of Zelda: Ocarina of Time</td>\n",
       "      <td>Nintendo 64</td>\n",
       "      <td>Nintendo</td>\n",
       "      <td>Nov</td>\n",
       "      <td>1998</td>\n",
       "      <td>99.0</td>\n",
       "      <td>22.0</td>\n",
       "      <td>9.1</td>\n",
       "      <td>5723.0</td>\n",
       "      <td>E</td>\n",
       "      <td>1.0</td>\n",
       "      <td>As a young boy, Link is tricked by Ganondorf, ...</td>\n",
       "      <td>8.69</td>\n",
       "      <td>9.9</td>\n",
       "      <td>18.59</td>\n",
       "    </tr>\n",
       "    <tr>\n",
       "      <th>110</th>\n",
       "      <td>231309</td>\n",
       "      <td>The Witcher 3: Wild Hunt</td>\n",
       "      <td>PC</td>\n",
       "      <td>Warner Bros. Interactive Entertainment</td>\n",
       "      <td>May</td>\n",
       "      <td>2015</td>\n",
       "      <td>93.0</td>\n",
       "      <td>32.0</td>\n",
       "      <td>9.4</td>\n",
       "      <td>17482.0</td>\n",
       "      <td>M</td>\n",
       "      <td>1.0</td>\n",
       "      <td>With the Empire attacking the Kingdoms of the ...</td>\n",
       "      <td>9.26</td>\n",
       "      <td>9.3</td>\n",
       "      <td>18.56</td>\n",
       "    </tr>\n",
       "    <tr>\n",
       "      <th>58</th>\n",
       "      <td>305096</td>\n",
       "      <td>The Last of Us Remastered</td>\n",
       "      <td>PlayStation 4</td>\n",
       "      <td>SCEA</td>\n",
       "      <td>Jul</td>\n",
       "      <td>2014</td>\n",
       "      <td>95.0</td>\n",
       "      <td>70.0</td>\n",
       "      <td>9.2</td>\n",
       "      <td>14486.0</td>\n",
       "      <td>M</td>\n",
       "      <td>8.0</td>\n",
       "      <td>The Last of Us has been rebuilt for the PlaySt...</td>\n",
       "      <td>9.03</td>\n",
       "      <td>9.5</td>\n",
       "      <td>18.53</td>\n",
       "    </tr>\n",
       "    <tr>\n",
       "      <th>53</th>\n",
       "      <td>197529</td>\n",
       "      <td>The Last of Us</td>\n",
       "      <td>PlayStation 3</td>\n",
       "      <td>SCEA</td>\n",
       "      <td>Jun</td>\n",
       "      <td>2013</td>\n",
       "      <td>95.0</td>\n",
       "      <td>98.0</td>\n",
       "      <td>9.2</td>\n",
       "      <td>11951.0</td>\n",
       "      <td>M</td>\n",
       "      <td>8.0</td>\n",
       "      <td>Twenty years after a pandemic radically transf...</td>\n",
       "      <td>9.00</td>\n",
       "      <td>9.5</td>\n",
       "      <td>18.50</td>\n",
       "    </tr>\n",
       "    <tr>\n",
       "      <th>22</th>\n",
       "      <td>103028</td>\n",
       "      <td>Half-Life 2</td>\n",
       "      <td>PC</td>\n",
       "      <td>VU Games</td>\n",
       "      <td>Nov</td>\n",
       "      <td>2004</td>\n",
       "      <td>96.0</td>\n",
       "      <td>81.0</td>\n",
       "      <td>9.1</td>\n",
       "      <td>10760.0</td>\n",
       "      <td>M</td>\n",
       "      <td>1.0</td>\n",
       "      <td>By taking the suspense, challenge and visceral...</td>\n",
       "      <td>8.88</td>\n",
       "      <td>9.6</td>\n",
       "      <td>18.48</td>\n",
       "    </tr>\n",
       "    <tr>\n",
       "      <th>...</th>\n",
       "      <td>...</td>\n",
       "      <td>...</td>\n",
       "      <td>...</td>\n",
       "      <td>...</td>\n",
       "      <td>...</td>\n",
       "      <td>...</td>\n",
       "      <td>...</td>\n",
       "      <td>...</td>\n",
       "      <td>...</td>\n",
       "      <td>...</td>\n",
       "      <td>...</td>\n",
       "      <td>...</td>\n",
       "      <td>...</td>\n",
       "      <td>...</td>\n",
       "      <td>...</td>\n",
       "      <td>...</td>\n",
       "    </tr>\n",
       "    <tr>\n",
       "      <th>9542</th>\n",
       "      <td>322597</td>\n",
       "      <td>Fenix Furia</td>\n",
       "      <td>PlayStation 4</td>\n",
       "      <td>Green Lava Studios</td>\n",
       "      <td>Jun</td>\n",
       "      <td>2016</td>\n",
       "      <td>71.0</td>\n",
       "      <td>8.0</td>\n",
       "      <td>5.0</td>\n",
       "      <td>4.0</td>\n",
       "      <td>E</td>\n",
       "      <td>NaN</td>\n",
       "      <td>Fenix Rage is a stylish, aggravatingly addicti...</td>\n",
       "      <td>0.07</td>\n",
       "      <td>7.1</td>\n",
       "      <td>7.17</td>\n",
       "    </tr>\n",
       "    <tr>\n",
       "      <th>9926</th>\n",
       "      <td>163033</td>\n",
       "      <td>Eragon</td>\n",
       "      <td>Game Boy Advance</td>\n",
       "      <td>Sierra Entertainment</td>\n",
       "      <td>Nov</td>\n",
       "      <td>2006</td>\n",
       "      <td>70.0</td>\n",
       "      <td>12.0</td>\n",
       "      <td>7.5</td>\n",
       "      <td>6.0</td>\n",
       "      <td>E10+</td>\n",
       "      <td>1.0</td>\n",
       "      <td>Play as Eragon and his dragon as they set out ...</td>\n",
       "      <td>0.16</td>\n",
       "      <td>7.0</td>\n",
       "      <td>7.16</td>\n",
       "    </tr>\n",
       "    <tr>\n",
       "      <th>9954</th>\n",
       "      <td>163252</td>\n",
       "      <td>Still Life</td>\n",
       "      <td>Xbox</td>\n",
       "      <td>The Adventure Company</td>\n",
       "      <td>Jun</td>\n",
       "      <td>2005</td>\n",
       "      <td>70.0</td>\n",
       "      <td>29.0</td>\n",
       "      <td>7.0</td>\n",
       "      <td>6.0</td>\n",
       "      <td>M</td>\n",
       "      <td>1.0</td>\n",
       "      <td>In Still Life, you play the role of Victoria M...</td>\n",
       "      <td>0.15</td>\n",
       "      <td>7.0</td>\n",
       "      <td>7.15</td>\n",
       "    </tr>\n",
       "    <tr>\n",
       "      <th>9945</th>\n",
       "      <td>531025</td>\n",
       "      <td>Sparklite</td>\n",
       "      <td>PC</td>\n",
       "      <td>Merge Games</td>\n",
       "      <td>Nov</td>\n",
       "      <td>2019</td>\n",
       "      <td>70.0</td>\n",
       "      <td>7.0</td>\n",
       "      <td>6.5</td>\n",
       "      <td>6.0</td>\n",
       "      <td>E10+</td>\n",
       "      <td>1.0</td>\n",
       "      <td>Sparklite is an action-adventure set in the wh...</td>\n",
       "      <td>0.14</td>\n",
       "      <td>7.0</td>\n",
       "      <td>7.14</td>\n",
       "    </tr>\n",
       "    <tr>\n",
       "      <th>9959</th>\n",
       "      <td>513904</td>\n",
       "      <td>Marvel's Guardians of the Galaxy - Episode 3: ...</td>\n",
       "      <td>Xbox One</td>\n",
       "      <td>Telltale Games</td>\n",
       "      <td>Aug</td>\n",
       "      <td>2017</td>\n",
       "      <td>70.0</td>\n",
       "      <td>8.0</td>\n",
       "      <td>4.8</td>\n",
       "      <td>6.0</td>\n",
       "      <td>T</td>\n",
       "      <td>NaN</td>\n",
       "      <td>In the wake of an epic battle, the Guardians d...</td>\n",
       "      <td>0.10</td>\n",
       "      <td>7.0</td>\n",
       "      <td>7.10</td>\n",
       "    </tr>\n",
       "  </tbody>\n",
       "</table>\n",
       "<p>9709 rows × 16 columns</p>\n",
       "</div>"
      ],
      "text/plain": [
       "          id                                             naslov  \\\n",
       "0     160692               The Legend of Zelda: Ocarina of Time   \n",
       "110   231309                           The Witcher 3: Wild Hunt   \n",
       "58    305096                          The Last of Us Remastered   \n",
       "53    197529                                     The Last of Us   \n",
       "22    103028                                        Half-Life 2   \n",
       "...      ...                                                ...   \n",
       "9542  322597                                        Fenix Furia   \n",
       "9926  163033                                             Eragon   \n",
       "9954  163252                                         Still Life   \n",
       "9945  531025                                          Sparklite   \n",
       "9959  513904  Marvel's Guardians of the Galaxy - Episode 3: ...   \n",
       "\n",
       "             platforma                                  studio mesec  leto  \\\n",
       "0          Nintendo 64                                Nintendo   Nov  1998   \n",
       "110                 PC  Warner Bros. Interactive Entertainment   May  2015   \n",
       "58       PlayStation 4                                    SCEA   Jul  2014   \n",
       "53       PlayStation 3                                    SCEA   Jun  2013   \n",
       "22                  PC                                VU Games   Nov  2004   \n",
       "...                ...                                     ...   ...   ...   \n",
       "9542     PlayStation 4                      Green Lava Studios   Jun  2016   \n",
       "9926  Game Boy Advance                    Sierra Entertainment   Nov  2006   \n",
       "9954              Xbox                   The Adventure Company   Jun  2005   \n",
       "9945                PC                             Merge Games   Nov  2019   \n",
       "9959          Xbox One                          Telltale Games   Aug  2017   \n",
       "\n",
       "      metascore  glasovi metascore  userscore  glasovi userscore oznaka  \\\n",
       "0          99.0               22.0        9.1             5723.0      E   \n",
       "110        93.0               32.0        9.4            17482.0      M   \n",
       "58         95.0               70.0        9.2            14486.0      M   \n",
       "53         95.0               98.0        9.2            11951.0      M   \n",
       "22         96.0               81.0        9.1            10760.0      M   \n",
       "...         ...                ...        ...                ...    ...   \n",
       "9542       71.0                8.0        5.0                4.0      E   \n",
       "9926       70.0               12.0        7.5                6.0   E10+   \n",
       "9954       70.0               29.0        7.0                6.0      M   \n",
       "9945       70.0                7.0        6.5                6.0   E10+   \n",
       "9959       70.0                8.0        4.8                6.0      T   \n",
       "\n",
       "      stevilo igralcev                                               opis  \\\n",
       "0                  1.0  As a young boy, Link is tricked by Ganondorf, ...   \n",
       "110                1.0  With the Empire attacking the Kingdoms of the ...   \n",
       "58                 8.0  The Last of Us has been rebuilt for the PlaySt...   \n",
       "53                 8.0  Twenty years after a pandemic radically transf...   \n",
       "22                 1.0  By taking the suspense, challenge and visceral...   \n",
       "...                ...                                                ...   \n",
       "9542               NaN  Fenix Rage is a stylish, aggravatingly addicti...   \n",
       "9926               1.0  Play as Eragon and his dragon as they set out ...   \n",
       "9954               1.0  In Still Life, you play the role of Victoria M...   \n",
       "9945               1.0  Sparklite is an action-adventure set in the wh...   \n",
       "9959               NaN  In the wake of an epic battle, the Guardians d...   \n",
       "\n",
       "      prilagojen userscore  prilagojen metascore  prilagojena ocena  \n",
       "0                     8.69                   9.9              18.59  \n",
       "110                   9.26                   9.3              18.56  \n",
       "58                    9.03                   9.5              18.53  \n",
       "53                    9.00                   9.5              18.50  \n",
       "22                    8.88                   9.6              18.48  \n",
       "...                    ...                   ...                ...  \n",
       "9542                  0.07                   7.1               7.17  \n",
       "9926                  0.16                   7.0               7.16  \n",
       "9954                  0.15                   7.0               7.15  \n",
       "9945                  0.14                   7.0               7.14  \n",
       "9959                  0.10                   7.0               7.10  \n",
       "\n",
       "[9709 rows x 16 columns]"
      ]
     },
     "execution_count": 97,
     "metadata": {},
     "output_type": "execute_result"
    }
   ],
   "source": [
    "igre.sort_values(\"prilagojena ocena\", ascending=False)"
   ]
  },
  {
   "cell_type": "markdown",
   "metadata": {},
   "source": [
    "Sedaj imamo našo metriko za ocenjevanje iger in prava analiza podatkov se lahko prične."
   ]
  },
  {
   "cell_type": "markdown",
   "metadata": {},
   "source": [
    "# 2. TBA"
   ]
  },
  {
   "cell_type": "markdown",
   "metadata": {},
   "source": [
    "Kot prvo, bomo ločili igre glede na platformo. Različna strojna oprema in različna implementacija pomeni, da se lahko kvaliteta od platforme do platforme precej razlikuje. Zato bomo v določenih pogledih obravnavali najboljše igre na vsaki platformi posebej."
   ]
  },
  {
   "cell_type": "code",
   "execution_count": 4,
   "metadata": {},
   "outputs": [
    {
     "data": {
      "text/plain": [
       "array(['Nintendo 64', 'PlayStation', 'PlayStation 3', 'Dreamcast',\n",
       "       'Xbox 360', 'Wii', 'Xbox One', 'Switch', 'PlayStation 2',\n",
       "       'PlayStation 4', 'GameCube', 'Xbox', 'PC', 'Wii U',\n",
       "       'Game Boy Advance', '3DS', 'DS', 'PlayStation Vita', 'PSP',\n",
       "       'Stadia'], dtype=object)"
      ]
     },
     "execution_count": 4,
     "metadata": {},
     "output_type": "execute_result"
    }
   ],
   "source": [
    "platforme = igre.platforma.unique()\n",
    "platforme"
   ]
  },
  {
   "cell_type": "code",
   "execution_count": 5,
   "metadata": {},
   "outputs": [
    {
     "data": {
      "text/html": [
       "<div>\n",
       "<style scoped>\n",
       "    .dataframe tbody tr th:only-of-type {\n",
       "        vertical-align: middle;\n",
       "    }\n",
       "\n",
       "    .dataframe tbody tr th {\n",
       "        vertical-align: top;\n",
       "    }\n",
       "\n",
       "    .dataframe thead th {\n",
       "        text-align: right;\n",
       "    }\n",
       "</style>\n",
       "<table border=\"1\" class=\"dataframe\">\n",
       "  <thead>\n",
       "    <tr style=\"text-align: right;\">\n",
       "      <th></th>\n",
       "      <th>id</th>\n",
       "      <th>naslov</th>\n",
       "      <th>platforma</th>\n",
       "      <th>studio</th>\n",
       "      <th>mesec</th>\n",
       "      <th>leto</th>\n",
       "      <th>metascore</th>\n",
       "      <th>glasovi metascore</th>\n",
       "      <th>userscore</th>\n",
       "      <th>glasovi userscore</th>\n",
       "      <th>oznaka</th>\n",
       "      <th>stevilo igralcev</th>\n",
       "      <th>opis</th>\n",
       "    </tr>\n",
       "  </thead>\n",
       "  <tbody>\n",
       "    <tr>\n",
       "      <th>22</th>\n",
       "      <td>103028</td>\n",
       "      <td>Half-Life 2</td>\n",
       "      <td>PC</td>\n",
       "      <td>VU Games</td>\n",
       "      <td>Nov</td>\n",
       "      <td>2004</td>\n",
       "      <td>96.0</td>\n",
       "      <td>81.0</td>\n",
       "      <td>9.1</td>\n",
       "      <td>10760.0</td>\n",
       "      <td>M</td>\n",
       "      <td>1.0</td>\n",
       "      <td>By taking the suspense, challenge and visceral...</td>\n",
       "    </tr>\n",
       "    <tr>\n",
       "      <th>23</th>\n",
       "      <td>325932</td>\n",
       "      <td>Grand Theft Auto V</td>\n",
       "      <td>PC</td>\n",
       "      <td>Rockstar Games</td>\n",
       "      <td>Apr</td>\n",
       "      <td>2015</td>\n",
       "      <td>96.0</td>\n",
       "      <td>57.0</td>\n",
       "      <td>7.8</td>\n",
       "      <td>6639.0</td>\n",
       "      <td>M</td>\n",
       "      <td>32.0</td>\n",
       "      <td>Los Santos: a sprawling sun-soaked metropolis ...</td>\n",
       "    </tr>\n",
       "    <tr>\n",
       "      <th>30</th>\n",
       "      <td>109675</td>\n",
       "      <td>The Orange Box</td>\n",
       "      <td>PC</td>\n",
       "      <td>EA Games</td>\n",
       "      <td>Oct</td>\n",
       "      <td>2007</td>\n",
       "      <td>96.0</td>\n",
       "      <td>34.0</td>\n",
       "      <td>9.2</td>\n",
       "      <td>1803.0</td>\n",
       "      <td>M</td>\n",
       "      <td>32.0</td>\n",
       "      <td>Games included in The Orange Box compilation: ...</td>\n",
       "    </tr>\n",
       "    <tr>\n",
       "      <th>36</th>\n",
       "      <td>100055</td>\n",
       "      <td>Half-Life</td>\n",
       "      <td>PC</td>\n",
       "      <td>Sierra Entertainment</td>\n",
       "      <td>Nov</td>\n",
       "      <td>1998</td>\n",
       "      <td>96.0</td>\n",
       "      <td>24.0</td>\n",
       "      <td>9.0</td>\n",
       "      <td>4316.0</td>\n",
       "      <td>M</td>\n",
       "      <td>1.0</td>\n",
       "      <td>Half-Life combines great storytelling in the t...</td>\n",
       "    </tr>\n",
       "    <tr>\n",
       "      <th>40</th>\n",
       "      <td>105294</td>\n",
       "      <td>BioShock</td>\n",
       "      <td>PC</td>\n",
       "      <td>2K Games</td>\n",
       "      <td>Aug</td>\n",
       "      <td>2007</td>\n",
       "      <td>96.0</td>\n",
       "      <td>44.0</td>\n",
       "      <td>8.6</td>\n",
       "      <td>4804.0</td>\n",
       "      <td>M</td>\n",
       "      <td>1.0</td>\n",
       "      <td>Going beyond \"run and gun corridors,\" \"monster...</td>\n",
       "    </tr>\n",
       "    <tr>\n",
       "      <th>...</th>\n",
       "      <td>...</td>\n",
       "      <td>...</td>\n",
       "      <td>...</td>\n",
       "      <td>...</td>\n",
       "      <td>...</td>\n",
       "      <td>...</td>\n",
       "      <td>...</td>\n",
       "      <td>...</td>\n",
       "      <td>...</td>\n",
       "      <td>...</td>\n",
       "      <td>...</td>\n",
       "      <td>...</td>\n",
       "      <td>...</td>\n",
       "    </tr>\n",
       "    <tr>\n",
       "      <th>9981</th>\n",
       "      <td>113122</td>\n",
       "      <td>Company of Heroes: Tales of Valor</td>\n",
       "      <td>PC</td>\n",
       "      <td>THQ</td>\n",
       "      <td>Apr</td>\n",
       "      <td>2009</td>\n",
       "      <td>70.0</td>\n",
       "      <td>42.0</td>\n",
       "      <td>7.2</td>\n",
       "      <td>216.0</td>\n",
       "      <td>M</td>\n",
       "      <td>NaN</td>\n",
       "      <td>Company of Heroes: Tales of Valor is the next ...</td>\n",
       "    </tr>\n",
       "    <tr>\n",
       "      <th>9982</th>\n",
       "      <td>107733</td>\n",
       "      <td>Romance of the Three Kingdoms XI</td>\n",
       "      <td>PC</td>\n",
       "      <td>Koei</td>\n",
       "      <td>Sep</td>\n",
       "      <td>2008</td>\n",
       "      <td>70.0</td>\n",
       "      <td>11.0</td>\n",
       "      <td>7.9</td>\n",
       "      <td>49.0</td>\n",
       "      <td>E10+</td>\n",
       "      <td>8.0</td>\n",
       "      <td>Set during the end of China's Han Dynasty and ...</td>\n",
       "    </tr>\n",
       "    <tr>\n",
       "      <th>9987</th>\n",
       "      <td>496865</td>\n",
       "      <td>I Am Setsuna</td>\n",
       "      <td>PC</td>\n",
       "      <td>Square Enix</td>\n",
       "      <td>Jul</td>\n",
       "      <td>2016</td>\n",
       "      <td>70.0</td>\n",
       "      <td>16.0</td>\n",
       "      <td>7.2</td>\n",
       "      <td>62.0</td>\n",
       "      <td>E10+</td>\n",
       "      <td>1.0</td>\n",
       "      <td>Inspired by Chrono Trigger, I am Setsuna is an...</td>\n",
       "    </tr>\n",
       "    <tr>\n",
       "      <th>9992</th>\n",
       "      <td>306747</td>\n",
       "      <td>Brigador</td>\n",
       "      <td>PC</td>\n",
       "      <td>Stellar Jockeys</td>\n",
       "      <td>Jun</td>\n",
       "      <td>2016</td>\n",
       "      <td>70.0</td>\n",
       "      <td>12.0</td>\n",
       "      <td>7.8</td>\n",
       "      <td>40.0</td>\n",
       "      <td>NaN</td>\n",
       "      <td>1.0</td>\n",
       "      <td>Choose your vehicle, weapons, pilot, and defen...</td>\n",
       "    </tr>\n",
       "    <tr>\n",
       "      <th>9998</th>\n",
       "      <td>110061</td>\n",
       "      <td>Global Agenda</td>\n",
       "      <td>PC</td>\n",
       "      <td>Hi-Rez Studios</td>\n",
       "      <td>Feb</td>\n",
       "      <td>2010</td>\n",
       "      <td>70.0</td>\n",
       "      <td>16.0</td>\n",
       "      <td>7.8</td>\n",
       "      <td>356.0</td>\n",
       "      <td>T</td>\n",
       "      <td>NaN</td>\n",
       "      <td>Global Agenda is a massively multi-player acti...</td>\n",
       "    </tr>\n",
       "  </tbody>\n",
       "</table>\n",
       "<p>2782 rows × 13 columns</p>\n",
       "</div>"
      ],
      "text/plain": [
       "          id                             naslov platforma  \\\n",
       "22    103028                        Half-Life 2        PC   \n",
       "23    325932                 Grand Theft Auto V        PC   \n",
       "30    109675                     The Orange Box        PC   \n",
       "36    100055                          Half-Life        PC   \n",
       "40    105294                           BioShock        PC   \n",
       "...      ...                                ...       ...   \n",
       "9981  113122  Company of Heroes: Tales of Valor        PC   \n",
       "9982  107733   Romance of the Three Kingdoms XI        PC   \n",
       "9987  496865                       I Am Setsuna        PC   \n",
       "9992  306747                           Brigador        PC   \n",
       "9998  110061                      Global Agenda        PC   \n",
       "\n",
       "                    studio mesec  leto  metascore  glasovi metascore  \\\n",
       "22                VU Games   Nov  2004       96.0               81.0   \n",
       "23          Rockstar Games   Apr  2015       96.0               57.0   \n",
       "30                EA Games   Oct  2007       96.0               34.0   \n",
       "36    Sierra Entertainment   Nov  1998       96.0               24.0   \n",
       "40                2K Games   Aug  2007       96.0               44.0   \n",
       "...                    ...   ...   ...        ...                ...   \n",
       "9981                   THQ   Apr  2009       70.0               42.0   \n",
       "9982                  Koei   Sep  2008       70.0               11.0   \n",
       "9987           Square Enix   Jul  2016       70.0               16.0   \n",
       "9992       Stellar Jockeys   Jun  2016       70.0               12.0   \n",
       "9998        Hi-Rez Studios   Feb  2010       70.0               16.0   \n",
       "\n",
       "      userscore  glasovi userscore oznaka  stevilo igralcev  \\\n",
       "22          9.1            10760.0      M               1.0   \n",
       "23          7.8             6639.0      M              32.0   \n",
       "30          9.2             1803.0      M              32.0   \n",
       "36          9.0             4316.0      M               1.0   \n",
       "40          8.6             4804.0      M               1.0   \n",
       "...         ...                ...    ...               ...   \n",
       "9981        7.2              216.0      M               NaN   \n",
       "9982        7.9               49.0   E10+               8.0   \n",
       "9987        7.2               62.0   E10+               1.0   \n",
       "9992        7.8               40.0    NaN               1.0   \n",
       "9998        7.8              356.0      T               NaN   \n",
       "\n",
       "                                                   opis  \n",
       "22    By taking the suspense, challenge and visceral...  \n",
       "23    Los Santos: a sprawling sun-soaked metropolis ...  \n",
       "30    Games included in The Orange Box compilation: ...  \n",
       "36    Half-Life combines great storytelling in the t...  \n",
       "40    Going beyond \"run and gun corridors,\" \"monster...  \n",
       "...                                                 ...  \n",
       "9981  Company of Heroes: Tales of Valor is the next ...  \n",
       "9982  Set during the end of China's Han Dynasty and ...  \n",
       "9987  Inspired by Chrono Trigger, I am Setsuna is an...  \n",
       "9992  Choose your vehicle, weapons, pilot, and defen...  \n",
       "9998  Global Agenda is a massively multi-player acti...  \n",
       "\n",
       "[2782 rows x 13 columns]"
      ]
     },
     "execution_count": 5,
     "metadata": {},
     "output_type": "execute_result"
    }
   ],
   "source": [
    "igre_po_platformi = {}\n",
    "\n",
    "for platforma in platforme:\n",
    "    igre_po_platformi[platforma] = igre[igre.platforma == platforma]\n",
    "\n",
    "igre_po_platformi[\"PC\"]"
   ]
  },
  {
   "cell_type": "code",
   "execution_count": 62,
   "metadata": {},
   "outputs": [
    {
     "data": {
      "text/plain": [
       "<AxesSubplot:xlabel='metascore', ylabel='userscore'>"
      ]
     },
     "execution_count": 62,
     "metadata": {},
     "output_type": "execute_result"
    },
    {
     "data": {
      "image/png": "[encoded data removed]",
      "text/plain": [
       "<Figure size 432x288 with 1 Axes>"
      ]
     },
     "metadata": {
      "needs_background": "light"
     },
     "output_type": "display_data"
    }
   ],
   "source": [
    "igre.plot.scatter(x=\"metascore\", y=\"userscore\")"
   ]
  },
  {
   "cell_type": "code",
   "execution_count": 67,
   "metadata": {},
   "outputs": [
    {
     "data": {
      "text/plain": [
       "<AxesSubplot:xlabel='prilagojen metascore', ylabel='prilagojen userscore'>"
      ]
     },
     "execution_count": 67,
     "metadata": {},
     "output_type": "execute_result"
    },
    {
     "data": {
      "image/png": "[encoded data removed]",
      "text/plain": [
       "<Figure size 432x288 with 1 Axes>"
      ]
     },
     "metadata": {
      "needs_background": "light"
     },
     "output_type": "display_data"
    }
   ],
   "source": [
    "prilagodi_glasove(igre)\n",
    "igre.plot.scatter(x=\"prilagojen metascore\", y=\"prilagojen userscore\")"
   ]
  },
  {
   "cell_type": "code",
   "execution_count": 68,
   "metadata": {},
   "outputs": [
    {
     "data": {
      "text/plain": [
       "<AxesSubplot:xlabel='metascore', ylabel='userscore'>"
      ]
     },
     "execution_count": 68,
     "metadata": {},
     "output_type": "execute_result"
    },
    {
     "data": {
      "image/png": "[encoded data removed]",
      "text/plain": [
       "<Figure size 432x288 with 1 Axes>"
      ]
     },
     "metadata": {
      "needs_background": "light"
     },
     "output_type": "display_data"
    }
   ],
   "source": [
    "igre.plot.scatter(x=\"metascore\", y=\"userscore\")"
   ]
  },
  {
   "cell_type": "code",
   "execution_count": null,
   "metadata": {},
   "outputs": [],
   "source": [
    "for platforma in platforme:\n",
    "    igre[igre.platforma == platforma].plot.scatter(x=\"metascore\", y=\"userscore\")"
   ]
  },
  {
   "cell_type": "code",
   "execution_count": null,
   "metadata": {},
   "outputs": [],
   "source": [
    "igre.sort_values(\"leto\")"
   ]
  },
  {
   "cell_type": "code",
   "execution_count": null,
   "metadata": {},
   "outputs": [],
   "source": [
    "igre.groupby(\"naslov\").size().sort_values()"
   ]
  },
  {
   "cell_type": "code",
   "execution_count": null,
   "metadata": {},
   "outputs": [],
   "source": [
    "igre.groupby(\"platforma\").size().sort_values()"
   ]
  },
  {
   "cell_type": "code",
   "execution_count": null,
   "metadata": {},
   "outputs": [],
   "source": [
    "igre[(igre.platforma == \"PC\")].sort_values(\"leto\", ascending=False)"
   ]
  },
  {
   "cell_type": "code",
   "execution_count": null,
   "metadata": {},
   "outputs": [],
   "source": [
    "# igre[(len(igre.naslov) > 10)]\n",
    "def fun(naslov):\n",
    "    return \"Creed\" in naslov\n",
    "    \n",
    "igre[(igre[\"naslov\"].apply(fun)) & (igre[\"platforma\"] == \"PC\")].sort_values(\"leto\")"
   ]
  }
 ],
 "metadata": {
  "kernelspec": {
   "display_name": "Python 3.7.4 32-bit",
   "language": "python",
   "name": "python37432bit7bd8249c0d8248779aa5883ddaede622"
  },
  "language_info": {
   "codemirror_mode": {
    "name": "ipython",
    "version": 3
   },
   "file_extension": ".py",
   "mimetype": "text/x-python",
   "name": "python",
   "nbconvert_exporter": "python",
   "pygments_lexer": "ipython3",
   "version": "3.7.4"
  }
 },
 "nbformat": 4,
 "nbformat_minor": 4
}
